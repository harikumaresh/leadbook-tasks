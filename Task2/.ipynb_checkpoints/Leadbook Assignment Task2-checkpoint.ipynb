{
 "cells": [
  {
   "cell_type": "markdown",
   "metadata": {},
   "source": [
    "<h1><center> Leadbook Task 2 </center></h1>\n",
    "\n",
    "\n",
    "\n",
    "The aim of this task is to predict the job department based on the job title.\n",
    "\n",
    "#### Datasets\n",
    "\n",
    "jobtitles.csv :- This holds the job titles  <br>\n",
    "departments.json :- This holds the job department and respective keywords.\n",
    "\n",
    "#### Actions to be performed\n",
    "\n",
    "1. Import both datasets.\n",
    "2. Preprocess the available text as per requirement.\n",
    "3. Add label to job titles from departments.json.\n",
    "4. Train a model with available data.\n",
    "\n",
    "\n",
    "#### Implementation"
   ]
  },
  {
   "cell_type": "code",
   "execution_count": 3,
   "metadata": {},
   "outputs": [],
   "source": [
    "import warnings\n",
    "warnings.simplefilter('ignore')"
   ]
  },
  {
   "cell_type": "code",
   "execution_count": 2,
   "metadata": {},
   "outputs": [
    {
     "name": "stderr",
     "output_type": "stream",
     "text": [
      "C:\\ProgramData\\Anaconda3\\lib\\site-packages\\sklearn\\cross_validation.py:41: DeprecationWarning: This module was deprecated in version 0.18 in favor of the model_selection module into which all the refactored classes and functions are moved. Also note that the interface of the new CV iterators are different from that of this module. This module will be removed in 0.20.\n",
      "  \"This module will be removed in 0.20.\", DeprecationWarning)\n"
     ]
    }
   ],
   "source": [
    "#Import all required Python packages\n",
    "import pandas as pd\n",
    "import json\n",
    "import re\n",
    "import matplotlib.pyplot as plt\n",
    "from nltk.stem import WordNetLemmatizer\n",
    "lemmatizer = WordNetLemmatizer()\n",
    "from sklearn.cross_validation import train_test_split\n",
    "from sklearn import preprocessing\n",
    "from sklearn.feature_extraction.text import TfidfVectorizer\n",
    "from sklearn.metrics import classification_report\n",
    "from sklearn.linear_model import LogisticRegression\n"
   ]
  },
  {
   "cell_type": "code",
   "execution_count": 4,
   "metadata": {},
   "outputs": [],
   "source": [
    "#Function to pre-process data\n",
    "def preprocess(gimmealist):\n",
    "    result_list = []\n",
    "    for sent in gimmealist:\n",
    "        #Remove special characters and numbers\n",
    "        pre_data = re.sub('[^A-Z a-z]+', ' ', str(sent))\n",
    "        #Remove extra space\n",
    "        pre_data=re.sub(' +', ' ',pre_data)\n",
    "        #Convert to lower\n",
    "        pre_data = pre_data.lower()\n",
    "        #Perform Lemmatization\n",
    "        pre_data = lemmatizer.lemmatize(pre_data)\n",
    "        result_list.append(pre_data)\n",
    "        #Remove any null values in the list \n",
    "    return list(filter(None, result_list))"
   ]
  },
  {
   "cell_type": "code",
   "execution_count": 5,
   "metadata": {},
   "outputs": [
    {
     "data": {
      "text/html": [
       "<div>\n",
       "<style scoped>\n",
       "    .dataframe tbody tr th:only-of-type {\n",
       "        vertical-align: middle;\n",
       "    }\n",
       "\n",
       "    .dataframe tbody tr th {\n",
       "        vertical-align: top;\n",
       "    }\n",
       "\n",
       "    .dataframe thead th {\n",
       "        text-align: right;\n",
       "    }\n",
       "</style>\n",
       "<table border=\"1\" class=\"dataframe\">\n",
       "  <thead>\n",
       "    <tr style=\"text-align: right;\">\n",
       "      <th></th>\n",
       "      <th>Country Code</th>\n",
       "      <th>Job Title</th>\n",
       "    </tr>\n",
       "  </thead>\n",
       "  <tbody>\n",
       "    <tr>\n",
       "      <th>0</th>\n",
       "      <td>IN</td>\n",
       "      <td>senior manager operations</td>\n",
       "    </tr>\n",
       "    <tr>\n",
       "      <th>1</th>\n",
       "      <td>IN</td>\n",
       "      <td>sr.analyst</td>\n",
       "    </tr>\n",
       "    <tr>\n",
       "      <th>2</th>\n",
       "      <td>IN</td>\n",
       "      <td>test analyst</td>\n",
       "    </tr>\n",
       "    <tr>\n",
       "      <th>3</th>\n",
       "      <td>IN</td>\n",
       "      <td>system admin</td>\n",
       "    </tr>\n",
       "    <tr>\n",
       "      <th>4</th>\n",
       "      <td>IN</td>\n",
       "      <td>network administrator</td>\n",
       "    </tr>\n",
       "  </tbody>\n",
       "</table>\n",
       "</div>"
      ],
      "text/plain": [
       "  Country Code                  Job Title\n",
       "0           IN  senior manager operations\n",
       "1           IN                 sr.analyst\n",
       "2           IN               test analyst\n",
       "3           IN               system admin\n",
       "4           IN      network administrator"
      ]
     },
     "execution_count": 5,
     "metadata": {},
     "output_type": "execute_result"
    }
   ],
   "source": [
    "input_data = pd.read_csv('jobtitles.csv',encoding='ISO-8859–1')\n",
    "#Sample Data\n",
    "input_data.head()"
   ]
  },
  {
   "cell_type": "code",
   "execution_count": 6,
   "metadata": {},
   "outputs": [
    {
     "data": {
      "text/plain": [
       "(84579, 2)"
      ]
     },
     "execution_count": 6,
     "metadata": {},
     "output_type": "execute_result"
    }
   ],
   "source": [
    "#Total number of rows\n",
    "input_data.shape"
   ]
  },
  {
   "cell_type": "code",
   "execution_count": 7,
   "metadata": {},
   "outputs": [
    {
     "name": "stdout",
     "output_type": "stream",
     "text": [
      "['IN']\n"
     ]
    }
   ],
   "source": [
    "print(input_data['Country Code'].unique())\n",
    "#The above results shows us that there is only 1 country code, hence we would be droping this feature from now."
   ]
  },
  {
   "cell_type": "code",
   "execution_count": 8,
   "metadata": {},
   "outputs": [
    {
     "name": "stdout",
     "output_type": "stream",
     "text": [
      "84576\n"
     ]
    }
   ],
   "source": [
    "#Total number of unique job titles before preprocessing\n",
    "print(len(input_data['Job Title'].unique()))"
   ]
  },
  {
   "cell_type": "code",
   "execution_count": 9,
   "metadata": {},
   "outputs": [],
   "source": [
    "#Pre-process the job titles\n",
    "jobtitle_list = list(set(preprocess(list(input_data['Job Title'].unique()))))"
   ]
  },
  {
   "cell_type": "code",
   "execution_count": 10,
   "metadata": {},
   "outputs": [
    {
     "data": {
      "text/plain": [
       "77927"
      ]
     },
     "execution_count": 10,
     "metadata": {},
     "output_type": "execute_result"
    }
   ],
   "source": [
    "#Total number of unique job titles after preprocessing\n",
    "len(jobtitle_list)"
   ]
  },
  {
   "cell_type": "code",
   "execution_count": 11,
   "metadata": {},
   "outputs": [],
   "source": [
    "output_values = []\n",
    "#Import the department dataseet\n",
    "with open('departments.json') as json_data:\n",
    "    list_dept = json.load(json_data)\n",
    "    for item in list_dept:\n",
    "        for key, values in item.items():\n",
    "            #Perform the same preprocessing steps for keyword before comparing\n",
    "            for keyword in preprocess(values):\n",
    "                #Take the words from input data to compare\n",
    "                for words in jobtitle_list:\n",
    "                    # If keyword is present in the word, add \n",
    "                    if keyword in words:\n",
    "                        #Create tuple with input data(job title) and label(department)\n",
    "                        #This will also ensure that junks are removed which is a part of requirement\n",
    "                        tit_dep = (words,key)\n",
    "                        output_values.append(tit_dep)"
   ]
  },
  {
   "cell_type": "code",
   "execution_count": 12,
   "metadata": {},
   "outputs": [
    {
     "data": {
      "text/html": [
       "<div>\n",
       "<style scoped>\n",
       "    .dataframe tbody tr th:only-of-type {\n",
       "        vertical-align: middle;\n",
       "    }\n",
       "\n",
       "    .dataframe tbody tr th {\n",
       "        vertical-align: top;\n",
       "    }\n",
       "\n",
       "    .dataframe thead th {\n",
       "        text-align: right;\n",
       "    }\n",
       "</style>\n",
       "<table border=\"1\" class=\"dataframe\">\n",
       "  <thead>\n",
       "    <tr style=\"text-align: right;\">\n",
       "      <th></th>\n",
       "      <th>Job_Title</th>\n",
       "      <th>Label</th>\n",
       "    </tr>\n",
       "  </thead>\n",
       "  <tbody>\n",
       "    <tr>\n",
       "      <th>0</th>\n",
       "      <td>senior software engineer defence product devel...</td>\n",
       "      <td>Defense</td>\n",
       "    </tr>\n",
       "    <tr>\n",
       "      <th>1</th>\n",
       "      <td>head sales india head defence infra projects</td>\n",
       "      <td>Defense</td>\n",
       "    </tr>\n",
       "    <tr>\n",
       "      <th>2</th>\n",
       "      <td>head sales central government and defence</td>\n",
       "      <td>Defense</td>\n",
       "    </tr>\n",
       "    <tr>\n",
       "      <th>3</th>\n",
       "      <td>senior product engineer aerospace defence</td>\n",
       "      <td>Defense</td>\n",
       "    </tr>\n",
       "    <tr>\n",
       "      <th>4</th>\n",
       "      <td>retired central govt scientist defence r d</td>\n",
       "      <td>Defense</td>\n",
       "    </tr>\n",
       "  </tbody>\n",
       "</table>\n",
       "</div>"
      ],
      "text/plain": [
       "                                           Job_Title    Label\n",
       "0  senior software engineer defence product devel...  Defense\n",
       "1       head sales india head defence infra projects  Defense\n",
       "2          head sales central government and defence  Defense\n",
       "3         senior product engineer aerospace defence   Defense\n",
       "4        retired central govt scientist defence r d   Defense"
      ]
     },
     "execution_count": 12,
     "metadata": {},
     "output_type": "execute_result"
    }
   ],
   "source": [
    "#Creating Dataframe with list of dicts for easy understanding\n",
    "titledataset = pd.DataFrame(output_values, columns=['Job_Title', 'Label'])\n",
    "titledataset.head()"
   ]
  },
  {
   "cell_type": "code",
   "execution_count": 13,
   "metadata": {},
   "outputs": [
    {
     "data": {
      "image/png": "[encoded data removed]",
      "text/plain": [
       "<Figure size 1440x720 with 1 Axes>"
      ]
     },
     "metadata": {},
     "output_type": "display_data"
    }
   ],
   "source": [
    "#Plot to understand distribution of data under each label.\n",
    "fig = plt.figure(figsize=(20,10))\n",
    "titledataset.groupby('Label').Job_Title.count().plot.bar(ylim=0)\n",
    "plt.show()"
   ]
  },
  {
   "cell_type": "markdown",
   "metadata": {},
   "source": [
    "The above plot states us that the dataset is unbalanced. Also building a model from this dataset would make it more biased towards the labels which has the highest number of data(like Information technology, Management and Engineering). First we could check the performance with the complete dataset, if its poor we could do steps like combining labels and tryinng the make label with lower data to match with other labels."
   ]
  },
  {
   "cell_type": "code",
   "execution_count": 14,
   "metadata": {},
   "outputs": [],
   "source": [
    "labels = titledataset.Label.tolist()\n",
    "data_fr_split_snp = titledataset.Job_Title.tolist()"
   ]
  },
  {
   "cell_type": "code",
   "execution_count": 15,
   "metadata": {},
   "outputs": [
    {
     "data": {
      "text/plain": [
       "array(['Agriculture', 'Art and Photography',\n",
       "       'Aviation, marine and shipping', 'Business Services', 'Chemicals',\n",
       "       'Clothing,Cosmetics and Fashion', 'Construction',\n",
       "       'Consumer Services', 'Customer Services', 'Defense', 'Design',\n",
       "       'Education', 'Electrical and Electronics', 'Energy and Mining',\n",
       "       'Engineering and Telecommunications', 'Entertainment',\n",
       "       'Financials', 'Government and Agencies', 'Healthcare',\n",
       "       'Hotels and Culinary', 'Human Resources',\n",
       "       'Import Export Procurement Dealers and Distributors',\n",
       "       'Information Technology', 'Logistics and Transportation',\n",
       "       'Management', 'Marketing and Advertising',\n",
       "       'Mechanical & Heavy Industry', 'Media & Journalism', 'Others',\n",
       "       'Professional Services', 'Real Estate',\n",
       "       'Social Organisations and NGO', 'Trade', 'planning and quality',\n",
       "       'sports ,fitness ,leisure and Travel'], dtype='<U50')"
      ]
     },
     "execution_count": 15,
     "metadata": {},
     "output_type": "execute_result"
    }
   ],
   "source": [
    "#Creating label encoder object\n",
    "titleencoder = preprocessing.LabelEncoder()\n",
    "titleencoder.fit(labels)\n",
    "titleencoder.classes_"
   ]
  },
  {
   "cell_type": "code",
   "execution_count": 16,
   "metadata": {},
   "outputs": [
    {
     "data": {
      "text/plain": [
       "array([ 9,  9,  9, ..., 28, 28, 28], dtype=int64)"
      ]
     },
     "execution_count": 16,
     "metadata": {},
     "output_type": "execute_result"
    }
   ],
   "source": [
    "#Categorical data into encoded format\n",
    "labels_afterencoding = titleencoder.transform(labels) \n",
    "labels_afterencoding"
   ]
  },
  {
   "cell_type": "code",
   "execution_count": 17,
   "metadata": {},
   "outputs": [
    {
     "name": "stdout",
     "output_type": "stream",
     "text": [
      "Results for Logistic Regression in unbalanced Dataset\n",
      "             precision    recall  f1-score   support\n",
      "\n",
      "          0       0.00      0.00      0.00         9\n",
      "          1       0.00      0.00      0.00         2\n",
      "          2       0.70      0.41      0.52        39\n",
      "          3       0.67      0.10      0.17        41\n",
      "          4       0.50      0.09      0.15        23\n",
      "          5       0.67      0.44      0.53         9\n",
      "          6       0.57      0.41      0.48       181\n",
      "          7       0.41      0.32      0.36        73\n",
      "          8       1.00      0.18      0.31        11\n",
      "          9       0.20      0.06      0.10        16\n",
      "         10       0.63      0.61      0.62       416\n",
      "         11       0.64      0.59      0.61       618\n",
      "         12       0.52      0.34      0.41       110\n",
      "         13       0.67      0.21      0.32        19\n",
      "         14       0.61      0.69      0.65      1506\n",
      "         15       0.81      0.53      0.64       109\n",
      "         16       0.65      0.51      0.57       331\n",
      "         17       0.50      0.12      0.20        24\n",
      "         18       0.54      0.34      0.42        98\n",
      "         19       0.80      0.59      0.68        80\n",
      "         20       0.49      0.36      0.42        85\n",
      "         21       0.65      0.53      0.59       169\n",
      "         22       0.71      0.71      0.71      6392\n",
      "         23       0.54      0.58      0.56       800\n",
      "         24       0.62      0.73      0.67      3700\n",
      "         25       0.67      0.60      0.64      1154\n",
      "         26       0.61      0.62      0.61       186\n",
      "         27       0.66      0.46      0.54        54\n",
      "         28       0.60      0.52      0.56        58\n",
      "         29       0.57      0.45      0.50       255\n",
      "         30       0.46      0.40      0.43        48\n",
      "         31       0.00      0.00      0.00         5\n",
      "         32       0.59      0.32      0.42        84\n",
      "         33       0.65      0.44      0.52       325\n",
      "         34       0.63      0.34      0.44       115\n",
      "\n",
      "avg / total       0.65      0.65      0.65     17145\n",
      "\n"
     ]
    }
   ],
   "source": [
    "\n",
    "#Split the data into train and test\n",
    "train_data, test_data , train_labels , test_labels  = train_test_split(data_fr_split_snp, labels_afterencoding,stratify=labels_afterencoding, test_size=0.2, random_state= 43)\n",
    "\n",
    "#Vectorizer to convert text to vectors\n",
    "vectorizer = TfidfVectorizer(binary = True,analyzer='word', token_pattern=r'\\w{1,}',\n",
    "                                 max_df = 0.6, \n",
    "                                 sublinear_tf=True)\n",
    "#Using vectorizer to convert the test and train\n",
    "train_vectors = vectorizer.fit_transform(train_data)\n",
    "test_vectors = vectorizer.transform(test_data)\n",
    "\n",
    "#Using Logistic regression, classifying and evaluating\n",
    "logisticRegr_un = LogisticRegression()\n",
    "logisticRegr_un.fit(train_vectors, train_labels)\n",
    "predict = logisticRegr_un.predict(test_vectors)\n",
    "print(\"Results for Logistic Regression in unbalanced Dataset\")\n",
    "print(classification_report(test_labels, predict))"
   ]
  },
  {
   "cell_type": "markdown",
   "metadata": {},
   "source": [
    "Usually SVM and logistic regression are widely used in text classification. The above dataset was used to train in different machine learning models , but logistic regression performed well with this particular dataset.\n",
    "The above classification report states us that the performance can be improved. F1 score which is harmonic mean of precision and recall is an overall indicator of model's performance. That can be observed that, for most of the labels the f1 score is very low, few cases 0 too. The reason is that data for those labels are very low while getting trained. "
   ]
  },
  {
   "cell_type": "code",
   "execution_count": 18,
   "metadata": {},
   "outputs": [
    {
     "name": "stdout",
     "output_type": "stream",
     "text": [
      "['Information Technology']\n",
      "['Engineering and Telecommunications']\n",
      "['Defense']\n",
      "['sports ,fitness ,leisure and Travel']\n",
      "['Marketing and Advertising']\n",
      "['Education']\n",
      "['Professional Services']\n",
      "['Hotels and Culinary']\n",
      "['Healthcare']\n",
      "['Entertainment']\n"
     ]
    }
   ],
   "source": [
    "#Sample prediction\n",
    "print(titleencoder.inverse_transform(logisticRegr_un.predict(vectorizer.transform(['Data Scientist']))))\n",
    "print(titleencoder.inverse_transform(logisticRegr_un.predict(vectorizer.transform(['Data Engineer']))))\n",
    "print(titleencoder.inverse_transform(logisticRegr_un.predict(vectorizer.transform(['Defence Jawan']))))\n",
    "print(titleencoder.inverse_transform(logisticRegr_un.predict(vectorizer.transform(['Sports']))))\n",
    "print(titleencoder.inverse_transform(logisticRegr_un.predict(vectorizer.transform(['Marketing Lead']))))\n",
    "print(titleencoder.inverse_transform(logisticRegr_un.predict(vectorizer.transform(['Intern']))))\n",
    "print(titleencoder.inverse_transform(logisticRegr_un.predict(vectorizer.transform(['Lawyer']))))\n",
    "print(titleencoder.inverse_transform(logisticRegr_un.predict(vectorizer.transform(['Senior Chef']))))\n",
    "print(titleencoder.inverse_transform(logisticRegr_un.predict(vectorizer.transform(['Medical Nurse']))))\n",
    "print(titleencoder.inverse_transform(logisticRegr_un.predict(vectorizer.transform(['music vocalist']))))"
   ]
  },
  {
   "cell_type": "markdown",
   "metadata": {},
   "source": [
    "#### Combining labels and checking model performance"
   ]
  },
  {
   "cell_type": "code",
   "execution_count": 19,
   "metadata": {},
   "outputs": [],
   "source": [
    "#Merging labels into Trade\n",
    "titledataset['Label'] = titledataset['Label'].replace(['Business Services','Logistics and Transportation','Aviation, marine and shipping','Import Export Procurement Dealers and Distributors'],'Trade')\n",
    "#Creating a label Core department and grouping those departments\n",
    "titledataset['Label'] = titledataset['Label'].replace(['Energy and Mining','Construction','Chemicals','Mechanical & Heavy Industry','Electrical and Electronics'],'Core Department')\n",
    "#Few to Others\n",
    "titledataset['Label'] = titledataset['Label'].replace(['Art and Photography', 'Clothing,Cosmetics and Fashion','Social Organisations and NGO', 'Government and Agencies'], 'Others')\n",
    "#All service to one\n",
    "titledataset['Label'] = titledataset['Label'].replace(['Professional Services','Healthcare','Consumer Services','Agriculture','Defense','Customer Services'], 'Service')"
   ]
  },
  {
   "cell_type": "code",
   "execution_count": 20,
   "metadata": {},
   "outputs": [],
   "source": [
    "labels = titledataset.Label.tolist()\n",
    "data_fr_split_snp = titledataset.Job_Title.tolist()"
   ]
  },
  {
   "cell_type": "code",
   "execution_count": 21,
   "metadata": {},
   "outputs": [
    {
     "data": {
      "text/plain": [
       "array(['Core Department', 'Design', 'Education',\n",
       "       'Engineering and Telecommunications', 'Entertainment',\n",
       "       'Financials', 'Hotels and Culinary', 'Human Resources',\n",
       "       'Information Technology', 'Management',\n",
       "       'Marketing and Advertising', 'Media & Journalism', 'Others',\n",
       "       'Real Estate', 'Service', 'Trade', 'planning and quality',\n",
       "       'sports ,fitness ,leisure and Travel'], dtype='<U35')"
      ]
     },
     "execution_count": 21,
     "metadata": {},
     "output_type": "execute_result"
    }
   ],
   "source": [
    "titleencoder.fit(labels)\n",
    "titleencoder.classes_"
   ]
  },
  {
   "cell_type": "code",
   "execution_count": 22,
   "metadata": {},
   "outputs": [],
   "source": [
    "labels_afterencoding = titleencoder.transform(labels) "
   ]
  },
  {
   "cell_type": "code",
   "execution_count": 24,
   "metadata": {},
   "outputs": [
    {
     "name": "stdout",
     "output_type": "stream",
     "text": [
      "Results for Logistic Regression in consolidated label Dataset\n",
      "             precision    recall  f1-score   support\n",
      "\n",
      "          0       0.62      0.56      0.59       519\n",
      "          1       0.63      0.62      0.62       416\n",
      "          2       0.65      0.58      0.61       618\n",
      "          3       0.62      0.69      0.65      1506\n",
      "          4       0.80      0.51      0.63       109\n",
      "          5       0.67      0.53      0.59       331\n",
      "          6       0.77      0.55      0.64        80\n",
      "          7       0.51      0.41      0.46        85\n",
      "          8       0.71      0.70      0.70      6392\n",
      "          9       0.62      0.76      0.68      3700\n",
      "         10       0.66      0.56      0.61      1154\n",
      "         11       0.64      0.50      0.56        54\n",
      "         12       0.67      0.46      0.55        98\n",
      "         13       0.45      0.38      0.41        48\n",
      "         14       0.58      0.44      0.50       462\n",
      "         15       0.59      0.52      0.55      1133\n",
      "         16       0.61      0.42      0.50       325\n",
      "         17       0.71      0.42      0.52       115\n",
      "\n",
      "avg / total       0.66      0.66      0.65     17145\n",
      "\n"
     ]
    }
   ],
   "source": [
    "\n",
    "#Split the data into train and test\n",
    "train_data, test_data , train_labels , test_labels  = train_test_split(data_fr_split_snp, labels_afterencoding,stratify=labels_afterencoding, test_size=0.2, random_state= 43)\n",
    "\n",
    "#Vectorizer to convert text to vectors\n",
    "vectorizer = TfidfVectorizer(binary = True,analyzer='word', token_pattern=r'\\w{1,}',\n",
    "                                 max_df = 0.6, \n",
    "                                 sublinear_tf=True)\n",
    "#Using vectorizer to convert the test and train\n",
    "train_vectors = vectorizer.fit_transform(train_data)\n",
    "test_vectors = vectorizer.transform(test_data)\n",
    "\n",
    "#Using Logistic regression, classifying and evaluating\n",
    "logisticRegr_un = LogisticRegression()\n",
    "logisticRegr_un.fit(train_vectors, train_labels)\n",
    "predict = logisticRegr_un.predict(test_vectors)\n",
    "print(\"Results for Logistic Regression in consolidated label Dataset\")\n",
    "print(classification_report(test_labels, predict))"
   ]
  },
  {
   "cell_type": "markdown",
   "metadata": {},
   "source": [
    "Though the average F1 score didnt increase, the scores at individual class has increased. This would increase predictive power of the model. "
   ]
  },
  {
   "cell_type": "markdown",
   "metadata": {},
   "source": [
    "#### Future Work\n",
    "1. More Keywords under each department <br>\n",
    "2. Customized spell checker can be implemented <br>\n",
    "3. While joining the labels from departments.json to job title, instead of a direct match , any text similarity measures can be used. <br>\n",
    "4. Adding some more features that are built would include some stastical values of respective test. <br>\n",
    "5. Trying with other word vectorizer methods.\n",
    "6. Building RNN model with the dataset.\n",
    "7. Finally, I feel that the dataset could be processed even better."
   ]
  }
 ],
 "metadata": {
  "kernelspec": {
   "display_name": "Python 3",
   "language": "python",
   "name": "python3"
  },
  "language_info": {
   "codemirror_mode": {
    "name": "ipython",
    "version": 3
   },
   "file_extension": ".py",
   "mimetype": "text/x-python",
   "name": "python",
   "nbconvert_exporter": "python",
   "pygments_lexer": "ipython3",
   "version": "3.6.5"
  }
 },
 "nbformat": 4,
 "nbformat_minor": 2
}
